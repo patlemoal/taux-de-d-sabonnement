{
 "cells": [
  {
   "cell_type": "markdown",
   "metadata": {},
   "source": [
    "Le taux de désabonnement des clients se produit lorsque les clients ou les abonnés cessent de faire affaire avec une entreprise ou un service. \n",
    "\n",
    "Une entreprise veut savoir quels sont les clients qui vont se désabonner en examinant certains des attributs importants et en y appliquant le Machine Learning ou le Deep Learning."
   ]
  },
  {
   "cell_type": "markdown",
   "metadata": {},
   "source": [
    "# I - Traitement, Visualisation et Analyse des données"
   ]
  },
  {
   "cell_type": "code",
   "execution_count": 1,
   "metadata": {},
   "outputs": [],
   "source": [
    "import scipy as sp\n",
    "import pandas as pd\n",
    "import numpy as np\n",
    "import matplotlib.pyplot as plt\n",
    "import seaborn as sb; sb.set(style=\"white\", color_codes=True)\n",
    "import tensorflow as tf\n",
    "\n",
    "from sklearn.impute import SimpleImputer\n",
    "from sklearn.preprocessing import LabelEncoder, OneHotEncoder\n",
    "from sklearn.model_selection import train_test_split\n",
    "from sklearn import linear_model\n",
    "from sklearn.metrics import mean_squared_error\n",
    "from sklearn.model_selection import cross_val_score, train_test_split, GridSearchCV\n",
    "from sklearn.preprocessing import LabelEncoder \n",
    "from sklearn.preprocessing import StandardScaler\n",
    "from sklearn.ensemble import RandomForestClassifier\n",
    "from sklearn import preprocessing\n",
    "from sklearn.metrics import mean_squared_error , mean_absolute_error\n",
    "from sklearn.linear_model import LogisticRegression\n",
    "from sklearn.linear_model import LinearRegression\n",
    "from sklearn.model_selection import PredefinedSplit\n",
    "from sklearn.pipeline import make_pipeline\n",
    "from sklearn.decomposition import PCA\n",
    "from sklearn.metrics import confusion_matrix\n",
    "from tensorflow.keras import layers, models"
   ]
  },
  {
   "cell_type": "code",
   "execution_count": 2,
   "metadata": {},
   "outputs": [
    {
     "data": {
      "text/html": [
       "<div>\n",
       "<style scoped>\n",
       "    .dataframe tbody tr th:only-of-type {\n",
       "        vertical-align: middle;\n",
       "    }\n",
       "\n",
       "    .dataframe tbody tr th {\n",
       "        vertical-align: top;\n",
       "    }\n",
       "\n",
       "    .dataframe thead th {\n",
       "        text-align: right;\n",
       "    }\n",
       "</style>\n",
       "<table border=\"1\" class=\"dataframe\">\n",
       "  <thead>\n",
       "    <tr style=\"text-align: right;\">\n",
       "      <th></th>\n",
       "      <th>num_ligne</th>\n",
       "      <th>ID_Client</th>\n",
       "      <th>Nom</th>\n",
       "      <th>Score_Credit</th>\n",
       "      <th>Pays</th>\n",
       "      <th>Sex</th>\n",
       "      <th>Age</th>\n",
       "      <th>Tenure</th>\n",
       "      <th>Balance</th>\n",
       "      <th>Num_Produit</th>\n",
       "      <th>il_a_CrCard</th>\n",
       "      <th>Membre_actif</th>\n",
       "      <th>Salaire_estime</th>\n",
       "      <th>Exited</th>\n",
       "    </tr>\n",
       "  </thead>\n",
       "  <tbody>\n",
       "    <tr>\n",
       "      <th>0</th>\n",
       "      <td>1</td>\n",
       "      <td>15634602</td>\n",
       "      <td>Hargrave</td>\n",
       "      <td>619</td>\n",
       "      <td>France</td>\n",
       "      <td>Female</td>\n",
       "      <td>42</td>\n",
       "      <td>2</td>\n",
       "      <td>0.00</td>\n",
       "      <td>1</td>\n",
       "      <td>1</td>\n",
       "      <td>1</td>\n",
       "      <td>101348.88</td>\n",
       "      <td>1</td>\n",
       "    </tr>\n",
       "    <tr>\n",
       "      <th>1</th>\n",
       "      <td>2</td>\n",
       "      <td>15647311</td>\n",
       "      <td>Hill</td>\n",
       "      <td>608</td>\n",
       "      <td>Spain</td>\n",
       "      <td>Female</td>\n",
       "      <td>41</td>\n",
       "      <td>1</td>\n",
       "      <td>83807.86</td>\n",
       "      <td>1</td>\n",
       "      <td>0</td>\n",
       "      <td>1</td>\n",
       "      <td>112542.58</td>\n",
       "      <td>0</td>\n",
       "    </tr>\n",
       "    <tr>\n",
       "      <th>2</th>\n",
       "      <td>3</td>\n",
       "      <td>15619304</td>\n",
       "      <td>Onio</td>\n",
       "      <td>502</td>\n",
       "      <td>France</td>\n",
       "      <td>Female</td>\n",
       "      <td>42</td>\n",
       "      <td>8</td>\n",
       "      <td>159660.80</td>\n",
       "      <td>3</td>\n",
       "      <td>1</td>\n",
       "      <td>0</td>\n",
       "      <td>113931.57</td>\n",
       "      <td>1</td>\n",
       "    </tr>\n",
       "    <tr>\n",
       "      <th>3</th>\n",
       "      <td>4</td>\n",
       "      <td>15701354</td>\n",
       "      <td>Boni</td>\n",
       "      <td>699</td>\n",
       "      <td>France</td>\n",
       "      <td>Female</td>\n",
       "      <td>39</td>\n",
       "      <td>1</td>\n",
       "      <td>0.00</td>\n",
       "      <td>2</td>\n",
       "      <td>0</td>\n",
       "      <td>0</td>\n",
       "      <td>93826.63</td>\n",
       "      <td>0</td>\n",
       "    </tr>\n",
       "    <tr>\n",
       "      <th>4</th>\n",
       "      <td>5</td>\n",
       "      <td>15737888</td>\n",
       "      <td>Mitchell</td>\n",
       "      <td>850</td>\n",
       "      <td>Spain</td>\n",
       "      <td>Female</td>\n",
       "      <td>43</td>\n",
       "      <td>2</td>\n",
       "      <td>125510.82</td>\n",
       "      <td>1</td>\n",
       "      <td>1</td>\n",
       "      <td>1</td>\n",
       "      <td>79084.10</td>\n",
       "      <td>0</td>\n",
       "    </tr>\n",
       "    <tr>\n",
       "      <th>...</th>\n",
       "      <td>...</td>\n",
       "      <td>...</td>\n",
       "      <td>...</td>\n",
       "      <td>...</td>\n",
       "      <td>...</td>\n",
       "      <td>...</td>\n",
       "      <td>...</td>\n",
       "      <td>...</td>\n",
       "      <td>...</td>\n",
       "      <td>...</td>\n",
       "      <td>...</td>\n",
       "      <td>...</td>\n",
       "      <td>...</td>\n",
       "      <td>...</td>\n",
       "    </tr>\n",
       "    <tr>\n",
       "      <th>9995</th>\n",
       "      <td>9996</td>\n",
       "      <td>15606229</td>\n",
       "      <td>Obijiaku</td>\n",
       "      <td>771</td>\n",
       "      <td>France</td>\n",
       "      <td>Male</td>\n",
       "      <td>39</td>\n",
       "      <td>5</td>\n",
       "      <td>0.00</td>\n",
       "      <td>2</td>\n",
       "      <td>1</td>\n",
       "      <td>0</td>\n",
       "      <td>96270.64</td>\n",
       "      <td>0</td>\n",
       "    </tr>\n",
       "    <tr>\n",
       "      <th>9996</th>\n",
       "      <td>9997</td>\n",
       "      <td>15569892</td>\n",
       "      <td>Johnstone</td>\n",
       "      <td>516</td>\n",
       "      <td>France</td>\n",
       "      <td>Male</td>\n",
       "      <td>35</td>\n",
       "      <td>10</td>\n",
       "      <td>57369.61</td>\n",
       "      <td>1</td>\n",
       "      <td>1</td>\n",
       "      <td>1</td>\n",
       "      <td>101699.77</td>\n",
       "      <td>0</td>\n",
       "    </tr>\n",
       "    <tr>\n",
       "      <th>9997</th>\n",
       "      <td>9998</td>\n",
       "      <td>15584532</td>\n",
       "      <td>Liu</td>\n",
       "      <td>709</td>\n",
       "      <td>France</td>\n",
       "      <td>Female</td>\n",
       "      <td>36</td>\n",
       "      <td>7</td>\n",
       "      <td>0.00</td>\n",
       "      <td>1</td>\n",
       "      <td>0</td>\n",
       "      <td>1</td>\n",
       "      <td>42085.58</td>\n",
       "      <td>1</td>\n",
       "    </tr>\n",
       "    <tr>\n",
       "      <th>9998</th>\n",
       "      <td>9999</td>\n",
       "      <td>15682355</td>\n",
       "      <td>Sabbatini</td>\n",
       "      <td>772</td>\n",
       "      <td>Germany</td>\n",
       "      <td>Male</td>\n",
       "      <td>42</td>\n",
       "      <td>3</td>\n",
       "      <td>75075.31</td>\n",
       "      <td>2</td>\n",
       "      <td>1</td>\n",
       "      <td>0</td>\n",
       "      <td>92888.52</td>\n",
       "      <td>1</td>\n",
       "    </tr>\n",
       "    <tr>\n",
       "      <th>9999</th>\n",
       "      <td>10000</td>\n",
       "      <td>15628319</td>\n",
       "      <td>Walker</td>\n",
       "      <td>792</td>\n",
       "      <td>France</td>\n",
       "      <td>Female</td>\n",
       "      <td>28</td>\n",
       "      <td>4</td>\n",
       "      <td>130142.79</td>\n",
       "      <td>1</td>\n",
       "      <td>1</td>\n",
       "      <td>0</td>\n",
       "      <td>38190.78</td>\n",
       "      <td>0</td>\n",
       "    </tr>\n",
       "  </tbody>\n",
       "</table>\n",
       "<p>10000 rows × 14 columns</p>\n",
       "</div>"
      ],
      "text/plain": [
       "      num_ligne  ID_Client        Nom  Score_Credit     Pays     Sex  Age  \\\n",
       "0             1   15634602   Hargrave           619   France  Female   42   \n",
       "1             2   15647311       Hill           608    Spain  Female   41   \n",
       "2             3   15619304       Onio           502   France  Female   42   \n",
       "3             4   15701354       Boni           699   France  Female   39   \n",
       "4             5   15737888   Mitchell           850    Spain  Female   43   \n",
       "...         ...        ...        ...           ...      ...     ...  ...   \n",
       "9995       9996   15606229   Obijiaku           771   France    Male   39   \n",
       "9996       9997   15569892  Johnstone           516   France    Male   35   \n",
       "9997       9998   15584532        Liu           709   France  Female   36   \n",
       "9998       9999   15682355  Sabbatini           772  Germany    Male   42   \n",
       "9999      10000   15628319     Walker           792   France  Female   28   \n",
       "\n",
       "      Tenure    Balance  Num_Produit  il_a_CrCard  Membre_actif  \\\n",
       "0          2       0.00            1            1             1   \n",
       "1          1   83807.86            1            0             1   \n",
       "2          8  159660.80            3            1             0   \n",
       "3          1       0.00            2            0             0   \n",
       "4          2  125510.82            1            1             1   \n",
       "...      ...        ...          ...          ...           ...   \n",
       "9995       5       0.00            2            1             0   \n",
       "9996      10   57369.61            1            1             1   \n",
       "9997       7       0.00            1            0             1   \n",
       "9998       3   75075.31            2            1             0   \n",
       "9999       4  130142.79            1            1             0   \n",
       "\n",
       "      Salaire_estime  Exited  \n",
       "0          101348.88       1  \n",
       "1          112542.58       0  \n",
       "2          113931.57       1  \n",
       "3           93826.63       0  \n",
       "4           79084.10       0  \n",
       "...              ...     ...  \n",
       "9995        96270.64       0  \n",
       "9996       101699.77       0  \n",
       "9997        42085.58       1  \n",
       "9998        92888.52       1  \n",
       "9999        38190.78       0  \n",
       "\n",
       "[10000 rows x 14 columns]"
      ]
     },
     "execution_count": 2,
     "metadata": {},
     "output_type": "execute_result"
    }
   ],
   "source": [
    "data= pd.read_csv('./data.csv', sep = \",\")\n",
    "data"
   ]
  },
  {
   "cell_type": "code",
   "execution_count": 3,
   "metadata": {},
   "outputs": [
    {
     "name": "stdout",
     "output_type": "stream",
     "text": [
      "<class 'pandas.core.frame.DataFrame'>\n",
      "RangeIndex: 10000 entries, 0 to 9999\n",
      "Data columns (total 14 columns):\n",
      " #   Column          Non-Null Count  Dtype  \n",
      "---  ------          --------------  -----  \n",
      " 0   num_ligne       10000 non-null  int64  \n",
      " 1   ID_Client       10000 non-null  int64  \n",
      " 2   Nom             10000 non-null  object \n",
      " 3   Score_Credit    10000 non-null  int64  \n",
      " 4   Pays            10000 non-null  object \n",
      " 5   Sex             10000 non-null  object \n",
      " 6   Age             10000 non-null  int64  \n",
      " 7   Tenure          10000 non-null  int64  \n",
      " 8   Balance         10000 non-null  float64\n",
      " 9   Num_Produit     10000 non-null  int64  \n",
      " 10  il_a_CrCard     10000 non-null  int64  \n",
      " 11  Membre_actif    10000 non-null  int64  \n",
      " 12  Salaire_estime  10000 non-null  float64\n",
      " 13  Exited          10000 non-null  int64  \n",
      "dtypes: float64(2), int64(9), object(3)\n",
      "memory usage: 1.1+ MB\n",
      "None\n"
     ]
    }
   ],
   "source": [
    "print(data.info())"
   ]
  },
  {
   "cell_type": "markdown",
   "metadata": {},
   "source": [
    "Le dataset est assez représentatif, il comporte 10 000 lignes et 14 colonnes.\n",
    "\n",
    "Données traitées dans le dataset :\n",
    "\n",
    "    - numéro de ligne\n",
    "    \n",
    "    - identifiant client\n",
    "    \n",
    "    - son nom\n",
    "    \n",
    "    - le score client\n",
    "    \n",
    "    - son pays (données à encoder)\n",
    "    \n",
    "    - son sexe ( données à encoder)\n",
    "    \n",
    "    - son age\n",
    "    \n",
    "    - tenure ?\n",
    "    \n",
    "    - balance ?\n",
    "    \n",
    "    - numéro du produit\n",
    "    \n",
    "    - possède ou non une cb\n",
    "    \n",
    "    - membre actif\n",
    "    \n",
    "    - son salaire\n",
    "    \n",
    "    - sortie ? \n",
    "    \n",
    "    \n",
    "On cherche à savoir si le client est sorti ou pas en fonction des autres critères.\n",
    "\n"
   ]
  },
  {
   "cell_type": "markdown",
   "metadata": {},
   "source": [
    "## I-2 ANALYSE DES MANQUANTS"
   ]
  },
  {
   "cell_type": "markdown",
   "metadata": {},
   "source": [
    "Qu’est ce qu’une donnée manquante?\n",
    "\n",
    "Les algorithmes de Machine Learning prennent les données d’entrée (input Data) sous forme matricielle, chaque ligne est une observation, et chaque colonne représente une caractéristique (feature) de l’indivu (son salaire, appartenance politique etc…).\n",
    "\n",
    "On dit qu’une observation (ligne de la matrice de données) comporte une donnée manquante s’il existe une feature pour laquelle sa valeur n’est pas renseignée. Evidemment, on peut avoir plusieurs données manquantes pour une même observation.\n"
   ]
  },
  {
   "cell_type": "code",
   "execution_count": 4,
   "metadata": {},
   "outputs": [
    {
     "name": "stdout",
     "output_type": "stream",
     "text": [
      "Valeurs manquantes par colonne:\n",
      "num_ligne         0\n",
      "ID_Client         0\n",
      "Nom               0\n",
      "Score_Credit      0\n",
      "Pays              0\n",
      "Sex               0\n",
      "Age               0\n",
      "Tenure            0\n",
      "Balance           0\n",
      "Num_Produit       0\n",
      "il_a_CrCard       0\n",
      "Membre_actif      0\n",
      "Salaire_estime    0\n",
      "Exited            0\n",
      "dtype: int64\n",
      "\n",
      "Valeurs manquantes par ligne:\n",
      "0    0\n",
      "1    0\n",
      "2    0\n",
      "3    0\n",
      "4    0\n",
      "dtype: int64\n"
     ]
    }
   ],
   "source": [
    "#vue d'ensemble des valeurs manquantes\n",
    "def num_missing(X):\n",
    "    return sum(X.isnull())\n",
    "\n",
    "# On applique cette fonction pour chaque colonne:\n",
    "print(\"Valeurs manquantes par colonne:\")\n",
    "print(data.apply(num_missing, axis=0)) #axis=0 définit que la fonction sera bien appliquée sur chaque colonne\n",
    "\n",
    "# Puis application pour chaque ligne:\n",
    "print(\"\\nValeurs manquantes par ligne:\")\n",
    "print(data.apply(num_missing, axis=1).head()) #axis=1 définit que la fonction sera bien appliquée sur chaque ligne\n"
   ]
  },
  {
   "cell_type": "markdown",
   "metadata": {},
   "source": [
    "Il semble ne pas y avoir de valeurs manquantes dans nos données"
   ]
  },
  {
   "cell_type": "code",
   "execution_count": 5,
   "metadata": {},
   "outputs": [
    {
     "name": "stdout",
     "output_type": "stream",
     "text": [
      "      num_ligne  ID_Client    Nom  Score_Credit   Pays    Sex    Age  Tenure  \\\n",
      "0         False      False  False         False  False  False  False   False   \n",
      "1         False      False  False         False  False  False  False   False   \n",
      "2         False      False  False         False  False  False  False   False   \n",
      "3         False      False  False         False  False  False  False   False   \n",
      "4         False      False  False         False  False  False  False   False   \n",
      "...         ...        ...    ...           ...    ...    ...    ...     ...   \n",
      "9995      False      False  False         False  False  False  False   False   \n",
      "9996      False      False  False         False  False  False  False   False   \n",
      "9997      False      False  False         False  False  False  False   False   \n",
      "9998      False      False  False         False  False  False  False   False   \n",
      "9999      False      False  False         False  False  False  False   False   \n",
      "\n",
      "      Balance  Num_Produit  il_a_CrCard  Membre_actif  Salaire_estime  Exited  \n",
      "0       False        False        False         False           False   False  \n",
      "1       False        False        False         False           False   False  \n",
      "2       False        False        False         False           False   False  \n",
      "3       False        False        False         False           False   False  \n",
      "4       False        False        False         False           False   False  \n",
      "...       ...          ...          ...           ...             ...     ...  \n",
      "9995    False        False        False         False           False   False  \n",
      "9996    False        False        False         False           False   False  \n",
      "9997    False        False        False         False           False   False  \n",
      "9998    False        False        False         False           False   False  \n",
      "9999    False        False        False         False           False   False  \n",
      "\n",
      "[10000 rows x 14 columns]\n"
     ]
    }
   ],
   "source": [
    "var = data.isnull()\n",
    "print(var)"
   ]
  },
  {
   "cell_type": "code",
   "execution_count": 6,
   "metadata": {},
   "outputs": [
    {
     "name": "stdout",
     "output_type": "stream",
     "text": [
      "Empty DataFrame\n",
      "Columns: [num_ligne, ID_Client, Nom, Score_Credit, Pays, Sex, Age, Tenure, Balance, Num_Produit, il_a_CrCard, Membre_actif, Salaire_estime, Exited]\n",
      "Index: []\n"
     ]
    },
    {
     "data": {
      "text/html": [
       "<div>\n",
       "<style scoped>\n",
       "    .dataframe tbody tr th:only-of-type {\n",
       "        vertical-align: middle;\n",
       "    }\n",
       "\n",
       "    .dataframe tbody tr th {\n",
       "        vertical-align: top;\n",
       "    }\n",
       "\n",
       "    .dataframe thead th {\n",
       "        text-align: right;\n",
       "    }\n",
       "</style>\n",
       "<table border=\"1\" class=\"dataframe\">\n",
       "  <thead>\n",
       "    <tr style=\"text-align: right;\">\n",
       "      <th></th>\n",
       "      <th>num_ligne</th>\n",
       "      <th>ID_Client</th>\n",
       "      <th>Nom</th>\n",
       "      <th>Score_Credit</th>\n",
       "      <th>Pays</th>\n",
       "      <th>Sex</th>\n",
       "      <th>Age</th>\n",
       "      <th>Tenure</th>\n",
       "      <th>Balance</th>\n",
       "      <th>Num_Produit</th>\n",
       "      <th>il_a_CrCard</th>\n",
       "      <th>Membre_actif</th>\n",
       "      <th>Salaire_estime</th>\n",
       "      <th>Exited</th>\n",
       "    </tr>\n",
       "  </thead>\n",
       "  <tbody>\n",
       "    <tr>\n",
       "      <th>0</th>\n",
       "      <td>1</td>\n",
       "      <td>15634602</td>\n",
       "      <td>Hargrave</td>\n",
       "      <td>619</td>\n",
       "      <td>France</td>\n",
       "      <td>Female</td>\n",
       "      <td>42</td>\n",
       "      <td>2</td>\n",
       "      <td>0.00</td>\n",
       "      <td>1</td>\n",
       "      <td>1</td>\n",
       "      <td>1</td>\n",
       "      <td>101348.88</td>\n",
       "      <td>1</td>\n",
       "    </tr>\n",
       "    <tr>\n",
       "      <th>1</th>\n",
       "      <td>2</td>\n",
       "      <td>15647311</td>\n",
       "      <td>Hill</td>\n",
       "      <td>608</td>\n",
       "      <td>Spain</td>\n",
       "      <td>Female</td>\n",
       "      <td>41</td>\n",
       "      <td>1</td>\n",
       "      <td>83807.86</td>\n",
       "      <td>1</td>\n",
       "      <td>0</td>\n",
       "      <td>1</td>\n",
       "      <td>112542.58</td>\n",
       "      <td>0</td>\n",
       "    </tr>\n",
       "    <tr>\n",
       "      <th>2</th>\n",
       "      <td>3</td>\n",
       "      <td>15619304</td>\n",
       "      <td>Onio</td>\n",
       "      <td>502</td>\n",
       "      <td>France</td>\n",
       "      <td>Female</td>\n",
       "      <td>42</td>\n",
       "      <td>8</td>\n",
       "      <td>159660.80</td>\n",
       "      <td>3</td>\n",
       "      <td>1</td>\n",
       "      <td>0</td>\n",
       "      <td>113931.57</td>\n",
       "      <td>1</td>\n",
       "    </tr>\n",
       "    <tr>\n",
       "      <th>3</th>\n",
       "      <td>4</td>\n",
       "      <td>15701354</td>\n",
       "      <td>Boni</td>\n",
       "      <td>699</td>\n",
       "      <td>France</td>\n",
       "      <td>Female</td>\n",
       "      <td>39</td>\n",
       "      <td>1</td>\n",
       "      <td>0.00</td>\n",
       "      <td>2</td>\n",
       "      <td>0</td>\n",
       "      <td>0</td>\n",
       "      <td>93826.63</td>\n",
       "      <td>0</td>\n",
       "    </tr>\n",
       "    <tr>\n",
       "      <th>4</th>\n",
       "      <td>5</td>\n",
       "      <td>15737888</td>\n",
       "      <td>Mitchell</td>\n",
       "      <td>850</td>\n",
       "      <td>Spain</td>\n",
       "      <td>Female</td>\n",
       "      <td>43</td>\n",
       "      <td>2</td>\n",
       "      <td>125510.82</td>\n",
       "      <td>1</td>\n",
       "      <td>1</td>\n",
       "      <td>1</td>\n",
       "      <td>79084.10</td>\n",
       "      <td>0</td>\n",
       "    </tr>\n",
       "    <tr>\n",
       "      <th>...</th>\n",
       "      <td>...</td>\n",
       "      <td>...</td>\n",
       "      <td>...</td>\n",
       "      <td>...</td>\n",
       "      <td>...</td>\n",
       "      <td>...</td>\n",
       "      <td>...</td>\n",
       "      <td>...</td>\n",
       "      <td>...</td>\n",
       "      <td>...</td>\n",
       "      <td>...</td>\n",
       "      <td>...</td>\n",
       "      <td>...</td>\n",
       "      <td>...</td>\n",
       "    </tr>\n",
       "    <tr>\n",
       "      <th>9995</th>\n",
       "      <td>9996</td>\n",
       "      <td>15606229</td>\n",
       "      <td>Obijiaku</td>\n",
       "      <td>771</td>\n",
       "      <td>France</td>\n",
       "      <td>Male</td>\n",
       "      <td>39</td>\n",
       "      <td>5</td>\n",
       "      <td>0.00</td>\n",
       "      <td>2</td>\n",
       "      <td>1</td>\n",
       "      <td>0</td>\n",
       "      <td>96270.64</td>\n",
       "      <td>0</td>\n",
       "    </tr>\n",
       "    <tr>\n",
       "      <th>9996</th>\n",
       "      <td>9997</td>\n",
       "      <td>15569892</td>\n",
       "      <td>Johnstone</td>\n",
       "      <td>516</td>\n",
       "      <td>France</td>\n",
       "      <td>Male</td>\n",
       "      <td>35</td>\n",
       "      <td>10</td>\n",
       "      <td>57369.61</td>\n",
       "      <td>1</td>\n",
       "      <td>1</td>\n",
       "      <td>1</td>\n",
       "      <td>101699.77</td>\n",
       "      <td>0</td>\n",
       "    </tr>\n",
       "    <tr>\n",
       "      <th>9997</th>\n",
       "      <td>9998</td>\n",
       "      <td>15584532</td>\n",
       "      <td>Liu</td>\n",
       "      <td>709</td>\n",
       "      <td>France</td>\n",
       "      <td>Female</td>\n",
       "      <td>36</td>\n",
       "      <td>7</td>\n",
       "      <td>0.00</td>\n",
       "      <td>1</td>\n",
       "      <td>0</td>\n",
       "      <td>1</td>\n",
       "      <td>42085.58</td>\n",
       "      <td>1</td>\n",
       "    </tr>\n",
       "    <tr>\n",
       "      <th>9998</th>\n",
       "      <td>9999</td>\n",
       "      <td>15682355</td>\n",
       "      <td>Sabbatini</td>\n",
       "      <td>772</td>\n",
       "      <td>Germany</td>\n",
       "      <td>Male</td>\n",
       "      <td>42</td>\n",
       "      <td>3</td>\n",
       "      <td>75075.31</td>\n",
       "      <td>2</td>\n",
       "      <td>1</td>\n",
       "      <td>0</td>\n",
       "      <td>92888.52</td>\n",
       "      <td>1</td>\n",
       "    </tr>\n",
       "    <tr>\n",
       "      <th>9999</th>\n",
       "      <td>10000</td>\n",
       "      <td>15628319</td>\n",
       "      <td>Walker</td>\n",
       "      <td>792</td>\n",
       "      <td>France</td>\n",
       "      <td>Female</td>\n",
       "      <td>28</td>\n",
       "      <td>4</td>\n",
       "      <td>130142.79</td>\n",
       "      <td>1</td>\n",
       "      <td>1</td>\n",
       "      <td>0</td>\n",
       "      <td>38190.78</td>\n",
       "      <td>0</td>\n",
       "    </tr>\n",
       "  </tbody>\n",
       "</table>\n",
       "<p>10000 rows × 14 columns</p>\n",
       "</div>"
      ],
      "text/plain": [
       "      num_ligne  ID_Client        Nom  Score_Credit     Pays     Sex  Age  \\\n",
       "0             1   15634602   Hargrave           619   France  Female   42   \n",
       "1             2   15647311       Hill           608    Spain  Female   41   \n",
       "2             3   15619304       Onio           502   France  Female   42   \n",
       "3             4   15701354       Boni           699   France  Female   39   \n",
       "4             5   15737888   Mitchell           850    Spain  Female   43   \n",
       "...         ...        ...        ...           ...      ...     ...  ...   \n",
       "9995       9996   15606229   Obijiaku           771   France    Male   39   \n",
       "9996       9997   15569892  Johnstone           516   France    Male   35   \n",
       "9997       9998   15584532        Liu           709   France  Female   36   \n",
       "9998       9999   15682355  Sabbatini           772  Germany    Male   42   \n",
       "9999      10000   15628319     Walker           792   France  Female   28   \n",
       "\n",
       "      Tenure    Balance  Num_Produit  il_a_CrCard  Membre_actif  \\\n",
       "0          2       0.00            1            1             1   \n",
       "1          1   83807.86            1            0             1   \n",
       "2          8  159660.80            3            1             0   \n",
       "3          1       0.00            2            0             0   \n",
       "4          2  125510.82            1            1             1   \n",
       "...      ...        ...          ...          ...           ...   \n",
       "9995       5       0.00            2            1             0   \n",
       "9996      10   57369.61            1            1             1   \n",
       "9997       7       0.00            1            0             1   \n",
       "9998       3   75075.31            2            1             0   \n",
       "9999       4  130142.79            1            1             0   \n",
       "\n",
       "      Salaire_estime  Exited  \n",
       "0          101348.88       1  \n",
       "1          112542.58       0  \n",
       "2          113931.57       1  \n",
       "3           93826.63       0  \n",
       "4           79084.10       0  \n",
       "...              ...     ...  \n",
       "9995        96270.64       0  \n",
       "9996       101699.77       0  \n",
       "9997        42085.58       1  \n",
       "9998        92888.52       1  \n",
       "9999        38190.78       0  \n",
       "\n",
       "[10000 rows x 14 columns]"
      ]
     },
     "execution_count": 6,
     "metadata": {},
     "output_type": "execute_result"
    }
   ],
   "source": [
    "var2 = data[var.any(axis=1)] #verifie les valeurs où il y a le true\n",
    "print(var2)\n",
    "data.fillna(0)"
   ]
  },
  {
   "cell_type": "markdown",
   "metadata": {},
   "source": [
    "## SUPPRESSION DES COLONNES inutiles dans notre analyse"
   ]
  },
  {
   "cell_type": "code",
   "execution_count": 7,
   "metadata": {},
   "outputs": [],
   "source": [
    "del(data['num_ligne'])"
   ]
  },
  {
   "cell_type": "code",
   "execution_count": 8,
   "metadata": {},
   "outputs": [],
   "source": [
    "del(data['ID_Client'])"
   ]
  },
  {
   "cell_type": "code",
   "execution_count": 9,
   "metadata": {},
   "outputs": [],
   "source": [
    "del(data['Nom'])"
   ]
  },
  {
   "cell_type": "code",
   "execution_count": 10,
   "metadata": {},
   "outputs": [
    {
     "data": {
      "text/html": [
       "<div>\n",
       "<style scoped>\n",
       "    .dataframe tbody tr th:only-of-type {\n",
       "        vertical-align: middle;\n",
       "    }\n",
       "\n",
       "    .dataframe tbody tr th {\n",
       "        vertical-align: top;\n",
       "    }\n",
       "\n",
       "    .dataframe thead th {\n",
       "        text-align: right;\n",
       "    }\n",
       "</style>\n",
       "<table border=\"1\" class=\"dataframe\">\n",
       "  <thead>\n",
       "    <tr style=\"text-align: right;\">\n",
       "      <th></th>\n",
       "      <th>Score_Credit</th>\n",
       "      <th>Pays</th>\n",
       "      <th>Sex</th>\n",
       "      <th>Age</th>\n",
       "      <th>Tenure</th>\n",
       "      <th>Balance</th>\n",
       "      <th>Num_Produit</th>\n",
       "      <th>il_a_CrCard</th>\n",
       "      <th>Membre_actif</th>\n",
       "      <th>Salaire_estime</th>\n",
       "      <th>Exited</th>\n",
       "    </tr>\n",
       "  </thead>\n",
       "  <tbody>\n",
       "    <tr>\n",
       "      <th>0</th>\n",
       "      <td>619</td>\n",
       "      <td>France</td>\n",
       "      <td>Female</td>\n",
       "      <td>42</td>\n",
       "      <td>2</td>\n",
       "      <td>0.00</td>\n",
       "      <td>1</td>\n",
       "      <td>1</td>\n",
       "      <td>1</td>\n",
       "      <td>101348.88</td>\n",
       "      <td>1</td>\n",
       "    </tr>\n",
       "    <tr>\n",
       "      <th>1</th>\n",
       "      <td>608</td>\n",
       "      <td>Spain</td>\n",
       "      <td>Female</td>\n",
       "      <td>41</td>\n",
       "      <td>1</td>\n",
       "      <td>83807.86</td>\n",
       "      <td>1</td>\n",
       "      <td>0</td>\n",
       "      <td>1</td>\n",
       "      <td>112542.58</td>\n",
       "      <td>0</td>\n",
       "    </tr>\n",
       "    <tr>\n",
       "      <th>2</th>\n",
       "      <td>502</td>\n",
       "      <td>France</td>\n",
       "      <td>Female</td>\n",
       "      <td>42</td>\n",
       "      <td>8</td>\n",
       "      <td>159660.80</td>\n",
       "      <td>3</td>\n",
       "      <td>1</td>\n",
       "      <td>0</td>\n",
       "      <td>113931.57</td>\n",
       "      <td>1</td>\n",
       "    </tr>\n",
       "    <tr>\n",
       "      <th>3</th>\n",
       "      <td>699</td>\n",
       "      <td>France</td>\n",
       "      <td>Female</td>\n",
       "      <td>39</td>\n",
       "      <td>1</td>\n",
       "      <td>0.00</td>\n",
       "      <td>2</td>\n",
       "      <td>0</td>\n",
       "      <td>0</td>\n",
       "      <td>93826.63</td>\n",
       "      <td>0</td>\n",
       "    </tr>\n",
       "    <tr>\n",
       "      <th>4</th>\n",
       "      <td>850</td>\n",
       "      <td>Spain</td>\n",
       "      <td>Female</td>\n",
       "      <td>43</td>\n",
       "      <td>2</td>\n",
       "      <td>125510.82</td>\n",
       "      <td>1</td>\n",
       "      <td>1</td>\n",
       "      <td>1</td>\n",
       "      <td>79084.10</td>\n",
       "      <td>0</td>\n",
       "    </tr>\n",
       "    <tr>\n",
       "      <th>...</th>\n",
       "      <td>...</td>\n",
       "      <td>...</td>\n",
       "      <td>...</td>\n",
       "      <td>...</td>\n",
       "      <td>...</td>\n",
       "      <td>...</td>\n",
       "      <td>...</td>\n",
       "      <td>...</td>\n",
       "      <td>...</td>\n",
       "      <td>...</td>\n",
       "      <td>...</td>\n",
       "    </tr>\n",
       "    <tr>\n",
       "      <th>9995</th>\n",
       "      <td>771</td>\n",
       "      <td>France</td>\n",
       "      <td>Male</td>\n",
       "      <td>39</td>\n",
       "      <td>5</td>\n",
       "      <td>0.00</td>\n",
       "      <td>2</td>\n",
       "      <td>1</td>\n",
       "      <td>0</td>\n",
       "      <td>96270.64</td>\n",
       "      <td>0</td>\n",
       "    </tr>\n",
       "    <tr>\n",
       "      <th>9996</th>\n",
       "      <td>516</td>\n",
       "      <td>France</td>\n",
       "      <td>Male</td>\n",
       "      <td>35</td>\n",
       "      <td>10</td>\n",
       "      <td>57369.61</td>\n",
       "      <td>1</td>\n",
       "      <td>1</td>\n",
       "      <td>1</td>\n",
       "      <td>101699.77</td>\n",
       "      <td>0</td>\n",
       "    </tr>\n",
       "    <tr>\n",
       "      <th>9997</th>\n",
       "      <td>709</td>\n",
       "      <td>France</td>\n",
       "      <td>Female</td>\n",
       "      <td>36</td>\n",
       "      <td>7</td>\n",
       "      <td>0.00</td>\n",
       "      <td>1</td>\n",
       "      <td>0</td>\n",
       "      <td>1</td>\n",
       "      <td>42085.58</td>\n",
       "      <td>1</td>\n",
       "    </tr>\n",
       "    <tr>\n",
       "      <th>9998</th>\n",
       "      <td>772</td>\n",
       "      <td>Germany</td>\n",
       "      <td>Male</td>\n",
       "      <td>42</td>\n",
       "      <td>3</td>\n",
       "      <td>75075.31</td>\n",
       "      <td>2</td>\n",
       "      <td>1</td>\n",
       "      <td>0</td>\n",
       "      <td>92888.52</td>\n",
       "      <td>1</td>\n",
       "    </tr>\n",
       "    <tr>\n",
       "      <th>9999</th>\n",
       "      <td>792</td>\n",
       "      <td>France</td>\n",
       "      <td>Female</td>\n",
       "      <td>28</td>\n",
       "      <td>4</td>\n",
       "      <td>130142.79</td>\n",
       "      <td>1</td>\n",
       "      <td>1</td>\n",
       "      <td>0</td>\n",
       "      <td>38190.78</td>\n",
       "      <td>0</td>\n",
       "    </tr>\n",
       "  </tbody>\n",
       "</table>\n",
       "<p>10000 rows × 11 columns</p>\n",
       "</div>"
      ],
      "text/plain": [
       "      Score_Credit     Pays     Sex  Age  Tenure    Balance  Num_Produit  \\\n",
       "0              619   France  Female   42       2       0.00            1   \n",
       "1              608    Spain  Female   41       1   83807.86            1   \n",
       "2              502   France  Female   42       8  159660.80            3   \n",
       "3              699   France  Female   39       1       0.00            2   \n",
       "4              850    Spain  Female   43       2  125510.82            1   \n",
       "...            ...      ...     ...  ...     ...        ...          ...   \n",
       "9995           771   France    Male   39       5       0.00            2   \n",
       "9996           516   France    Male   35      10   57369.61            1   \n",
       "9997           709   France  Female   36       7       0.00            1   \n",
       "9998           772  Germany    Male   42       3   75075.31            2   \n",
       "9999           792   France  Female   28       4  130142.79            1   \n",
       "\n",
       "      il_a_CrCard  Membre_actif  Salaire_estime  Exited  \n",
       "0               1             1       101348.88       1  \n",
       "1               0             1       112542.58       0  \n",
       "2               1             0       113931.57       1  \n",
       "3               0             0        93826.63       0  \n",
       "4               1             1        79084.10       0  \n",
       "...           ...           ...             ...     ...  \n",
       "9995            1             0        96270.64       0  \n",
       "9996            1             1       101699.77       0  \n",
       "9997            0             1        42085.58       1  \n",
       "9998            1             0        92888.52       1  \n",
       "9999            1             0        38190.78       0  \n",
       "\n",
       "[10000 rows x 11 columns]"
      ]
     },
     "execution_count": 10,
     "metadata": {},
     "output_type": "execute_result"
    }
   ],
   "source": [
    "data"
   ]
  },
  {
   "cell_type": "markdown",
   "metadata": {},
   "source": [
    "## I- 3 Exploration des variables quantitatives"
   ]
  },
  {
   "cell_type": "markdown",
   "metadata": {},
   "source": [
    "### Afficher la liste des variables quantitatives dans le jeu de données"
   ]
  },
  {
   "cell_type": "code",
   "execution_count": 11,
   "metadata": {},
   "outputs": [
    {
     "name": "stdout",
     "output_type": "stream",
     "text": [
      "There are 9 numerical variables\n",
      "\n",
      "The numerical variables are : ['Score_Credit', 'Age', 'Tenure', 'Balance', 'Num_Produit', 'il_a_CrCard', 'Membre_actif', 'Salaire_estime', 'Exited']\n"
     ]
    }
   ],
   "source": [
    "\n",
    "numerical = [var for var in data.columns if data[var].dtype!='O']\n",
    "\n",
    "print('There are {} numerical variables\\n'.format(len(numerical)))\n",
    "\n",
    "print('The numerical variables are :', numerical)"
   ]
  },
  {
   "cell_type": "markdown",
   "metadata": {},
   "source": [
    "### Visualiser le contenu des variables quantitatives dans le jeu de données"
   ]
  },
  {
   "cell_type": "code",
   "execution_count": 12,
   "metadata": {},
   "outputs": [
    {
     "data": {
      "text/html": [
       "<div>\n",
       "<style scoped>\n",
       "    .dataframe tbody tr th:only-of-type {\n",
       "        vertical-align: middle;\n",
       "    }\n",
       "\n",
       "    .dataframe tbody tr th {\n",
       "        vertical-align: top;\n",
       "    }\n",
       "\n",
       "    .dataframe thead th {\n",
       "        text-align: right;\n",
       "    }\n",
       "</style>\n",
       "<table border=\"1\" class=\"dataframe\">\n",
       "  <thead>\n",
       "    <tr style=\"text-align: right;\">\n",
       "      <th></th>\n",
       "      <th>Score_Credit</th>\n",
       "      <th>Age</th>\n",
       "      <th>Tenure</th>\n",
       "      <th>Balance</th>\n",
       "      <th>Num_Produit</th>\n",
       "      <th>il_a_CrCard</th>\n",
       "      <th>Membre_actif</th>\n",
       "      <th>Salaire_estime</th>\n",
       "      <th>Exited</th>\n",
       "    </tr>\n",
       "  </thead>\n",
       "  <tbody>\n",
       "    <tr>\n",
       "      <th>0</th>\n",
       "      <td>619</td>\n",
       "      <td>42</td>\n",
       "      <td>2</td>\n",
       "      <td>0.00</td>\n",
       "      <td>1</td>\n",
       "      <td>1</td>\n",
       "      <td>1</td>\n",
       "      <td>101348.88</td>\n",
       "      <td>1</td>\n",
       "    </tr>\n",
       "    <tr>\n",
       "      <th>1</th>\n",
       "      <td>608</td>\n",
       "      <td>41</td>\n",
       "      <td>1</td>\n",
       "      <td>83807.86</td>\n",
       "      <td>1</td>\n",
       "      <td>0</td>\n",
       "      <td>1</td>\n",
       "      <td>112542.58</td>\n",
       "      <td>0</td>\n",
       "    </tr>\n",
       "    <tr>\n",
       "      <th>2</th>\n",
       "      <td>502</td>\n",
       "      <td>42</td>\n",
       "      <td>8</td>\n",
       "      <td>159660.80</td>\n",
       "      <td>3</td>\n",
       "      <td>1</td>\n",
       "      <td>0</td>\n",
       "      <td>113931.57</td>\n",
       "      <td>1</td>\n",
       "    </tr>\n",
       "    <tr>\n",
       "      <th>3</th>\n",
       "      <td>699</td>\n",
       "      <td>39</td>\n",
       "      <td>1</td>\n",
       "      <td>0.00</td>\n",
       "      <td>2</td>\n",
       "      <td>0</td>\n",
       "      <td>0</td>\n",
       "      <td>93826.63</td>\n",
       "      <td>0</td>\n",
       "    </tr>\n",
       "    <tr>\n",
       "      <th>4</th>\n",
       "      <td>850</td>\n",
       "      <td>43</td>\n",
       "      <td>2</td>\n",
       "      <td>125510.82</td>\n",
       "      <td>1</td>\n",
       "      <td>1</td>\n",
       "      <td>1</td>\n",
       "      <td>79084.10</td>\n",
       "      <td>0</td>\n",
       "    </tr>\n",
       "  </tbody>\n",
       "</table>\n",
       "</div>"
      ],
      "text/plain": [
       "   Score_Credit  Age  Tenure    Balance  Num_Produit  il_a_CrCard  \\\n",
       "0           619   42       2       0.00            1            1   \n",
       "1           608   41       1   83807.86            1            0   \n",
       "2           502   42       8  159660.80            3            1   \n",
       "3           699   39       1       0.00            2            0   \n",
       "4           850   43       2  125510.82            1            1   \n",
       "\n",
       "   Membre_actif  Salaire_estime  Exited  \n",
       "0             1       101348.88       1  \n",
       "1             1       112542.58       0  \n",
       "2             0       113931.57       1  \n",
       "3             0        93826.63       0  \n",
       "4             1        79084.10       0  "
      ]
     },
     "execution_count": 12,
     "metadata": {},
     "output_type": "execute_result"
    }
   ],
   "source": [
    "data[numerical].head()"
   ]
  },
  {
   "cell_type": "markdown",
   "metadata": {},
   "source": [
    "### Afficher le résumé statistique des variables quantitatives (describe())"
   ]
  },
  {
   "cell_type": "code",
   "execution_count": 13,
   "metadata": {},
   "outputs": [
    {
     "name": "stdout",
     "output_type": "stream",
     "text": [
      "       Score_Credit      Age   Tenure   Balance  Num_Produit  il_a_CrCard  \\\n",
      "count       10000.0  10000.0  10000.0   10000.0      10000.0      10000.0   \n",
      "mean          651.0     39.0      5.0   76486.0          2.0          1.0   \n",
      "std            97.0     10.0      3.0   62397.0          1.0          0.0   \n",
      "min           350.0     18.0      0.0       0.0          1.0          0.0   \n",
      "25%           584.0     32.0      3.0       0.0          1.0          0.0   \n",
      "50%           652.0     37.0      5.0   97199.0          1.0          1.0   \n",
      "75%           718.0     44.0      7.0  127644.0          2.0          1.0   \n",
      "max           850.0     92.0     10.0  250898.0          4.0          1.0   \n",
      "\n",
      "       Membre_actif  Salaire_estime   Exited  \n",
      "count       10000.0         10000.0  10000.0  \n",
      "mean            1.0        100090.0      0.0  \n",
      "std             0.0         57510.0      0.0  \n",
      "min             0.0            12.0      0.0  \n",
      "25%             0.0         51002.0      0.0  \n",
      "50%             1.0        100194.0      0.0  \n",
      "75%             1.0        149388.0      0.0  \n",
      "max             1.0        199992.0      1.0   2\n"
     ]
    }
   ],
   "source": [
    "print(round(data[numerical].describe()),2)"
   ]
  },
  {
   "cell_type": "code",
   "execution_count": null,
   "metadata": {},
   "outputs": [],
   "source": []
  },
  {
   "cell_type": "markdown",
   "metadata": {},
   "source": [
    "## I-4 Afficher la liste des noms des variables qualitatives"
   ]
  },
  {
   "cell_type": "code",
   "execution_count": 14,
   "metadata": {},
   "outputs": [
    {
     "name": "stdout",
     "output_type": "stream",
     "text": [
      "There are 2 categorical variables\n",
      "\n",
      "The categorical variables are : ['Pays', 'Sex']\n"
     ]
    }
   ],
   "source": [
    "# Get list of categorical variables\n",
    "variables = (data.dtypes == 'object')\n",
    "object_cols = list(variables[variables].index)\n",
    "\n",
    "\n",
    "print('There are {} categorical variables\\n'.format(len(object_cols)))\n",
    "\n",
    "print('The categorical variables are :', object_cols)"
   ]
  },
  {
   "cell_type": "markdown",
   "metadata": {},
   "source": [
    "### Afficher le contenu de ces variables qualitatives"
   ]
  },
  {
   "cell_type": "code",
   "execution_count": 15,
   "metadata": {},
   "outputs": [
    {
     "data": {
      "text/plain": [
       "count        11\n",
       "unique        2\n",
       "top       False\n",
       "freq          9\n",
       "dtype: object"
      ]
     },
     "execution_count": 15,
     "metadata": {},
     "output_type": "execute_result"
    }
   ],
   "source": [
    "variables.describe(include=['object'])"
   ]
  },
  {
   "cell_type": "markdown",
   "metadata": {},
   "source": [
    "### Afficher la fréquence des variables qualitatives"
   ]
  },
  {
   "cell_type": "code",
   "execution_count": 16,
   "metadata": {},
   "outputs": [
    {
     "name": "stdout",
     "output_type": "stream",
     "text": [
      "Pays\n",
      "***********************************************\n",
      "France     5014\n",
      "Germany    2509\n",
      "Spain      2477\n",
      "Name: Pays, dtype: int64\n",
      "==============================================\n",
      "Sex\n",
      "***********************************************\n",
      "Male      5457\n",
      "Female    4543\n",
      "Name: Sex, dtype: int64\n",
      "==============================================\n"
     ]
    }
   ],
   "source": [
    "for var in object_cols:\n",
    "    print(var)\n",
    "    print(\"***********************************************\")\n",
    "    print(data[var].value_counts())\n",
    "    print(\"==============================================\")\n",
    "    \n",
    "#var le nom de la colonne quantitative\n",
    "#data on lui donne le nom d'une colonne à chaque itération il va nous donner la valeur des occurences qui sont dans la colonne var"
   ]
  },
  {
   "cell_type": "markdown",
   "metadata": {},
   "source": [
    "### Nombre de labels: cardinalité\n",
    "\n",
    "Le nombre de labels dans une variable qualitative est appelé la cardinalité. Un nombre élevé de labels dans une variable est appelé cardinalité élevée. Une cardinalité élevée peut poser de sérieux problèmes dans le modèle d'apprentissage automatique. Donc, Afficher la cardinalité de chaque variable qualitative."
   ]
  },
  {
   "cell_type": "code",
   "execution_count": 17,
   "metadata": {},
   "outputs": [
    {
     "name": "stdout",
     "output_type": "stream",
     "text": [
      "Pays contains 3 labels\n",
      "Sex contains 2 labels\n"
     ]
    }
   ],
   "source": [
    "for var in object_cols:\n",
    "    print(f\"{var} contains {len(data[var].unique())} labels\")"
   ]
  },
  {
   "cell_type": "markdown",
   "metadata": {},
   "source": [
    "### Encoder les valeurs catégoriques : Pays et Sex"
   ]
  },
  {
   "cell_type": "markdown",
   "metadata": {},
   "source": [
    "LabelEncoder-> on donne un code aux variables qualitatives "
   ]
  },
  {
   "cell_type": "markdown",
   "metadata": {},
   "source": [
    "**encodage valeur pays**"
   ]
  },
  {
   "cell_type": "code",
   "execution_count": 18,
   "metadata": {},
   "outputs": [
    {
     "data": {
      "text/plain": [
       "0       0\n",
       "1       2\n",
       "2       0\n",
       "3       0\n",
       "4       2\n",
       "       ..\n",
       "9995    0\n",
       "9996    0\n",
       "9997    0\n",
       "9998    1\n",
       "9999    0\n",
       "Name: Pays, Length: 10000, dtype: int32"
      ]
     },
     "execution_count": 18,
     "metadata": {},
     "output_type": "execute_result"
    }
   ],
   "source": [
    "lab = LabelEncoder()\n",
    "data[\"Pays\"] = lab.fit_transform(data[\"Pays\"])\n",
    "data[\"Pays\"]"
   ]
  },
  {
   "cell_type": "markdown",
   "metadata": {},
   "source": [
    "**encodage valeur sex**"
   ]
  },
  {
   "cell_type": "code",
   "execution_count": 19,
   "metadata": {},
   "outputs": [
    {
     "data": {
      "text/plain": [
       "0       0\n",
       "1       0\n",
       "2       0\n",
       "3       0\n",
       "4       0\n",
       "       ..\n",
       "9995    1\n",
       "9996    1\n",
       "9997    0\n",
       "9998    1\n",
       "9999    0\n",
       "Name: Sex, Length: 10000, dtype: int32"
      ]
     },
     "execution_count": 19,
     "metadata": {},
     "output_type": "execute_result"
    }
   ],
   "source": [
    "lab = LabelEncoder()\n",
    "data[\"Sex\"] = lab.fit_transform(data[\"Sex\"])\n",
    "data[\"Sex\"]"
   ]
  },
  {
   "cell_type": "code",
   "execution_count": 20,
   "metadata": {},
   "outputs": [
    {
     "data": {
      "text/html": [
       "<div>\n",
       "<style scoped>\n",
       "    .dataframe tbody tr th:only-of-type {\n",
       "        vertical-align: middle;\n",
       "    }\n",
       "\n",
       "    .dataframe tbody tr th {\n",
       "        vertical-align: top;\n",
       "    }\n",
       "\n",
       "    .dataframe thead th {\n",
       "        text-align: right;\n",
       "    }\n",
       "</style>\n",
       "<table border=\"1\" class=\"dataframe\">\n",
       "  <thead>\n",
       "    <tr style=\"text-align: right;\">\n",
       "      <th></th>\n",
       "      <th>Score_Credit</th>\n",
       "      <th>Pays</th>\n",
       "      <th>Sex</th>\n",
       "      <th>Age</th>\n",
       "      <th>Tenure</th>\n",
       "      <th>Balance</th>\n",
       "      <th>Num_Produit</th>\n",
       "      <th>il_a_CrCard</th>\n",
       "      <th>Membre_actif</th>\n",
       "      <th>Salaire_estime</th>\n",
       "      <th>Exited</th>\n",
       "    </tr>\n",
       "  </thead>\n",
       "  <tbody>\n",
       "    <tr>\n",
       "      <th>0</th>\n",
       "      <td>619</td>\n",
       "      <td>0</td>\n",
       "      <td>0</td>\n",
       "      <td>42</td>\n",
       "      <td>2</td>\n",
       "      <td>0.00</td>\n",
       "      <td>1</td>\n",
       "      <td>1</td>\n",
       "      <td>1</td>\n",
       "      <td>101348.88</td>\n",
       "      <td>1</td>\n",
       "    </tr>\n",
       "    <tr>\n",
       "      <th>1</th>\n",
       "      <td>608</td>\n",
       "      <td>2</td>\n",
       "      <td>0</td>\n",
       "      <td>41</td>\n",
       "      <td>1</td>\n",
       "      <td>83807.86</td>\n",
       "      <td>1</td>\n",
       "      <td>0</td>\n",
       "      <td>1</td>\n",
       "      <td>112542.58</td>\n",
       "      <td>0</td>\n",
       "    </tr>\n",
       "    <tr>\n",
       "      <th>2</th>\n",
       "      <td>502</td>\n",
       "      <td>0</td>\n",
       "      <td>0</td>\n",
       "      <td>42</td>\n",
       "      <td>8</td>\n",
       "      <td>159660.80</td>\n",
       "      <td>3</td>\n",
       "      <td>1</td>\n",
       "      <td>0</td>\n",
       "      <td>113931.57</td>\n",
       "      <td>1</td>\n",
       "    </tr>\n",
       "    <tr>\n",
       "      <th>3</th>\n",
       "      <td>699</td>\n",
       "      <td>0</td>\n",
       "      <td>0</td>\n",
       "      <td>39</td>\n",
       "      <td>1</td>\n",
       "      <td>0.00</td>\n",
       "      <td>2</td>\n",
       "      <td>0</td>\n",
       "      <td>0</td>\n",
       "      <td>93826.63</td>\n",
       "      <td>0</td>\n",
       "    </tr>\n",
       "    <tr>\n",
       "      <th>4</th>\n",
       "      <td>850</td>\n",
       "      <td>2</td>\n",
       "      <td>0</td>\n",
       "      <td>43</td>\n",
       "      <td>2</td>\n",
       "      <td>125510.82</td>\n",
       "      <td>1</td>\n",
       "      <td>1</td>\n",
       "      <td>1</td>\n",
       "      <td>79084.10</td>\n",
       "      <td>0</td>\n",
       "    </tr>\n",
       "  </tbody>\n",
       "</table>\n",
       "</div>"
      ],
      "text/plain": [
       "   Score_Credit  Pays  Sex  Age  Tenure    Balance  Num_Produit  il_a_CrCard  \\\n",
       "0           619     0    0   42       2       0.00            1            1   \n",
       "1           608     2    0   41       1   83807.86            1            0   \n",
       "2           502     0    0   42       8  159660.80            3            1   \n",
       "3           699     0    0   39       1       0.00            2            0   \n",
       "4           850     2    0   43       2  125510.82            1            1   \n",
       "\n",
       "   Membre_actif  Salaire_estime  Exited  \n",
       "0             1       101348.88       1  \n",
       "1             1       112542.58       0  \n",
       "2             0       113931.57       1  \n",
       "3             0        93826.63       0  \n",
       "4             1        79084.10       0  "
      ]
     },
     "execution_count": 20,
     "metadata": {},
     "output_type": "execute_result"
    }
   ],
   "source": [
    "data.head()"
   ]
  },
  {
   "cell_type": "code",
   "execution_count": 21,
   "metadata": {},
   "outputs": [],
   "source": [
    "#sb.pairplot(data)"
   ]
  },
  {
   "cell_type": "code",
   "execution_count": 22,
   "metadata": {},
   "outputs": [
    {
     "data": {
      "image/png": "[encoded data removed]",
      "text/plain": [
       "<Figure size 1440x1080 with 12 Axes>"
      ]
     },
     "metadata": {},
     "output_type": "display_data"
    }
   ],
   "source": [
    "import matplotlib.pyplot as plt\n",
    "data.hist(bins=50, figsize=(20,15))\n",
    "plt.show()"
   ]
  },
  {
   "cell_type": "code",
   "execution_count": 23,
   "metadata": {},
   "outputs": [
    {
     "data": {
      "text/html": [
       "<div>\n",
       "<style scoped>\n",
       "    .dataframe tbody tr th:only-of-type {\n",
       "        vertical-align: middle;\n",
       "    }\n",
       "\n",
       "    .dataframe tbody tr th {\n",
       "        vertical-align: top;\n",
       "    }\n",
       "\n",
       "    .dataframe thead th {\n",
       "        text-align: right;\n",
       "    }\n",
       "</style>\n",
       "<table border=\"1\" class=\"dataframe\">\n",
       "  <thead>\n",
       "    <tr style=\"text-align: right;\">\n",
       "      <th></th>\n",
       "      <th>Score_Credit</th>\n",
       "      <th>Pays</th>\n",
       "      <th>Sex</th>\n",
       "      <th>Age</th>\n",
       "      <th>Tenure</th>\n",
       "      <th>Balance</th>\n",
       "      <th>Num_Produit</th>\n",
       "      <th>il_a_CrCard</th>\n",
       "      <th>Membre_actif</th>\n",
       "      <th>Salaire_estime</th>\n",
       "      <th>Exited</th>\n",
       "    </tr>\n",
       "  </thead>\n",
       "  <tbody>\n",
       "    <tr>\n",
       "      <th>Score_Credit</th>\n",
       "      <td>1.000000</td>\n",
       "      <td>0.007888</td>\n",
       "      <td>-0.002857</td>\n",
       "      <td>-0.003965</td>\n",
       "      <td>0.000842</td>\n",
       "      <td>0.006268</td>\n",
       "      <td>0.012238</td>\n",
       "      <td>-0.005458</td>\n",
       "      <td>0.025651</td>\n",
       "      <td>-0.001384</td>\n",
       "      <td>-0.027094</td>\n",
       "    </tr>\n",
       "    <tr>\n",
       "      <th>Pays</th>\n",
       "      <td>0.007888</td>\n",
       "      <td>1.000000</td>\n",
       "      <td>0.004719</td>\n",
       "      <td>0.022812</td>\n",
       "      <td>0.003739</td>\n",
       "      <td>0.069408</td>\n",
       "      <td>0.003972</td>\n",
       "      <td>-0.008523</td>\n",
       "      <td>0.006724</td>\n",
       "      <td>-0.001369</td>\n",
       "      <td>0.035943</td>\n",
       "    </tr>\n",
       "    <tr>\n",
       "      <th>Sex</th>\n",
       "      <td>-0.002857</td>\n",
       "      <td>0.004719</td>\n",
       "      <td>1.000000</td>\n",
       "      <td>-0.027544</td>\n",
       "      <td>0.014733</td>\n",
       "      <td>0.012087</td>\n",
       "      <td>-0.021859</td>\n",
       "      <td>0.005766</td>\n",
       "      <td>0.022544</td>\n",
       "      <td>-0.008112</td>\n",
       "      <td>-0.106512</td>\n",
       "    </tr>\n",
       "    <tr>\n",
       "      <th>Age</th>\n",
       "      <td>-0.003965</td>\n",
       "      <td>0.022812</td>\n",
       "      <td>-0.027544</td>\n",
       "      <td>1.000000</td>\n",
       "      <td>-0.009997</td>\n",
       "      <td>0.028308</td>\n",
       "      <td>-0.030680</td>\n",
       "      <td>-0.011721</td>\n",
       "      <td>0.085472</td>\n",
       "      <td>-0.007201</td>\n",
       "      <td>0.285323</td>\n",
       "    </tr>\n",
       "    <tr>\n",
       "      <th>Tenure</th>\n",
       "      <td>0.000842</td>\n",
       "      <td>0.003739</td>\n",
       "      <td>0.014733</td>\n",
       "      <td>-0.009997</td>\n",
       "      <td>1.000000</td>\n",
       "      <td>-0.012254</td>\n",
       "      <td>0.013444</td>\n",
       "      <td>0.022583</td>\n",
       "      <td>-0.028362</td>\n",
       "      <td>0.007784</td>\n",
       "      <td>-0.014001</td>\n",
       "    </tr>\n",
       "    <tr>\n",
       "      <th>Balance</th>\n",
       "      <td>0.006268</td>\n",
       "      <td>0.069408</td>\n",
       "      <td>0.012087</td>\n",
       "      <td>0.028308</td>\n",
       "      <td>-0.012254</td>\n",
       "      <td>1.000000</td>\n",
       "      <td>-0.304180</td>\n",
       "      <td>-0.014858</td>\n",
       "      <td>-0.010084</td>\n",
       "      <td>0.012797</td>\n",
       "      <td>0.118533</td>\n",
       "    </tr>\n",
       "    <tr>\n",
       "      <th>Num_Produit</th>\n",
       "      <td>0.012238</td>\n",
       "      <td>0.003972</td>\n",
       "      <td>-0.021859</td>\n",
       "      <td>-0.030680</td>\n",
       "      <td>0.013444</td>\n",
       "      <td>-0.304180</td>\n",
       "      <td>1.000000</td>\n",
       "      <td>0.003183</td>\n",
       "      <td>0.009612</td>\n",
       "      <td>0.014204</td>\n",
       "      <td>-0.047820</td>\n",
       "    </tr>\n",
       "    <tr>\n",
       "      <th>il_a_CrCard</th>\n",
       "      <td>-0.005458</td>\n",
       "      <td>-0.008523</td>\n",
       "      <td>0.005766</td>\n",
       "      <td>-0.011721</td>\n",
       "      <td>0.022583</td>\n",
       "      <td>-0.014858</td>\n",
       "      <td>0.003183</td>\n",
       "      <td>1.000000</td>\n",
       "      <td>-0.011866</td>\n",
       "      <td>-0.009933</td>\n",
       "      <td>-0.007138</td>\n",
       "    </tr>\n",
       "    <tr>\n",
       "      <th>Membre_actif</th>\n",
       "      <td>0.025651</td>\n",
       "      <td>0.006724</td>\n",
       "      <td>0.022544</td>\n",
       "      <td>0.085472</td>\n",
       "      <td>-0.028362</td>\n",
       "      <td>-0.010084</td>\n",
       "      <td>0.009612</td>\n",
       "      <td>-0.011866</td>\n",
       "      <td>1.000000</td>\n",
       "      <td>-0.011421</td>\n",
       "      <td>-0.156128</td>\n",
       "    </tr>\n",
       "    <tr>\n",
       "      <th>Salaire_estime</th>\n",
       "      <td>-0.001384</td>\n",
       "      <td>-0.001369</td>\n",
       "      <td>-0.008112</td>\n",
       "      <td>-0.007201</td>\n",
       "      <td>0.007784</td>\n",
       "      <td>0.012797</td>\n",
       "      <td>0.014204</td>\n",
       "      <td>-0.009933</td>\n",
       "      <td>-0.011421</td>\n",
       "      <td>1.000000</td>\n",
       "      <td>0.012097</td>\n",
       "    </tr>\n",
       "    <tr>\n",
       "      <th>Exited</th>\n",
       "      <td>-0.027094</td>\n",
       "      <td>0.035943</td>\n",
       "      <td>-0.106512</td>\n",
       "      <td>0.285323</td>\n",
       "      <td>-0.014001</td>\n",
       "      <td>0.118533</td>\n",
       "      <td>-0.047820</td>\n",
       "      <td>-0.007138</td>\n",
       "      <td>-0.156128</td>\n",
       "      <td>0.012097</td>\n",
       "      <td>1.000000</td>\n",
       "    </tr>\n",
       "  </tbody>\n",
       "</table>\n",
       "</div>"
      ],
      "text/plain": [
       "                Score_Credit      Pays       Sex       Age    Tenure  \\\n",
       "Score_Credit        1.000000  0.007888 -0.002857 -0.003965  0.000842   \n",
       "Pays                0.007888  1.000000  0.004719  0.022812  0.003739   \n",
       "Sex                -0.002857  0.004719  1.000000 -0.027544  0.014733   \n",
       "Age                -0.003965  0.022812 -0.027544  1.000000 -0.009997   \n",
       "Tenure              0.000842  0.003739  0.014733 -0.009997  1.000000   \n",
       "Balance             0.006268  0.069408  0.012087  0.028308 -0.012254   \n",
       "Num_Produit         0.012238  0.003972 -0.021859 -0.030680  0.013444   \n",
       "il_a_CrCard        -0.005458 -0.008523  0.005766 -0.011721  0.022583   \n",
       "Membre_actif        0.025651  0.006724  0.022544  0.085472 -0.028362   \n",
       "Salaire_estime     -0.001384 -0.001369 -0.008112 -0.007201  0.007784   \n",
       "Exited             -0.027094  0.035943 -0.106512  0.285323 -0.014001   \n",
       "\n",
       "                 Balance  Num_Produit  il_a_CrCard  Membre_actif  \\\n",
       "Score_Credit    0.006268     0.012238    -0.005458      0.025651   \n",
       "Pays            0.069408     0.003972    -0.008523      0.006724   \n",
       "Sex             0.012087    -0.021859     0.005766      0.022544   \n",
       "Age             0.028308    -0.030680    -0.011721      0.085472   \n",
       "Tenure         -0.012254     0.013444     0.022583     -0.028362   \n",
       "Balance         1.000000    -0.304180    -0.014858     -0.010084   \n",
       "Num_Produit    -0.304180     1.000000     0.003183      0.009612   \n",
       "il_a_CrCard    -0.014858     0.003183     1.000000     -0.011866   \n",
       "Membre_actif   -0.010084     0.009612    -0.011866      1.000000   \n",
       "Salaire_estime  0.012797     0.014204    -0.009933     -0.011421   \n",
       "Exited          0.118533    -0.047820    -0.007138     -0.156128   \n",
       "\n",
       "                Salaire_estime    Exited  \n",
       "Score_Credit         -0.001384 -0.027094  \n",
       "Pays                 -0.001369  0.035943  \n",
       "Sex                  -0.008112 -0.106512  \n",
       "Age                  -0.007201  0.285323  \n",
       "Tenure                0.007784 -0.014001  \n",
       "Balance               0.012797  0.118533  \n",
       "Num_Produit           0.014204 -0.047820  \n",
       "il_a_CrCard          -0.009933 -0.007138  \n",
       "Membre_actif         -0.011421 -0.156128  \n",
       "Salaire_estime        1.000000  0.012097  \n",
       "Exited                0.012097  1.000000  "
      ]
     },
     "execution_count": 23,
     "metadata": {},
     "output_type": "execute_result"
    }
   ],
   "source": [
    "pearsoncorr = data.corr(method='pearson')\n",
    "pearsoncorr"
   ]
  },
  {
   "cell_type": "code",
   "execution_count": 24,
   "metadata": {},
   "outputs": [
    {
     "data": {
      "text/plain": [
       "<AxesSubplot:>"
      ]
     },
     "execution_count": 24,
     "metadata": {},
     "output_type": "execute_result"
    },
    {
     "data": {
      "image/png": "[encoded data removed]",
      "text/plain": [
       "<Figure size 432x288 with 2 Axes>"
      ]
     },
     "metadata": {},
     "output_type": "display_data"
    }
   ],
   "source": [
    "sb.heatmap(pearsoncorr, \n",
    "            xticklabels=pearsoncorr.columns,\n",
    "            yticklabels=pearsoncorr.columns,\n",
    "            cmap='RdBu_r',\n",
    "            annot=True,\n",
    "            linewidth=0.5)"
   ]
  },
  {
   "cell_type": "markdown",
   "metadata": {},
   "source": [
    "cela confirme qu'il n'y a aucune correlation entre les données"
   ]
  },
  {
   "cell_type": "markdown",
   "metadata": {},
   "source": [
    "## II -Répartition des données"
   ]
  },
  {
   "cell_type": "code",
   "execution_count": 25,
   "metadata": {},
   "outputs": [
    {
     "data": {
      "text/plain": [
       "(10000, 11)"
      ]
     },
     "execution_count": 25,
     "metadata": {},
     "output_type": "execute_result"
    }
   ],
   "source": [
    "data.shape"
   ]
  },
  {
   "cell_type": "code",
   "execution_count": 26,
   "metadata": {},
   "outputs": [
    {
     "name": "stdout",
     "output_type": "stream",
     "text": [
      "(10000, 10)\n",
      "(10000, 1)\n"
     ]
    }
   ],
   "source": [
    "X = data.drop(['Exited'], axis=1)\n",
    "\n",
    "y = data['Exited'].values.reshape(-1,1)\n",
    "\n",
    "\n",
    "print(X.shape)\n",
    "print(y.shape)"
   ]
  },
  {
   "cell_type": "code",
   "execution_count": 27,
   "metadata": {},
   "outputs": [],
   "source": [
    "#2e méthode\n",
    "#y = data.iloc[:,-1].values.reshape(-1,1)\n",
    "#print(y)\n",
    "\n",
    "#x = data.iloc[:,-14:-1].values\n",
    "#print(x)"
   ]
  },
  {
   "cell_type": "code",
   "execution_count": 28,
   "metadata": {},
   "outputs": [
    {
     "name": "stdout",
     "output_type": "stream",
     "text": [
      "(2000, 10) (8000, 10) (8000, 1) (2000, 1)\n"
     ]
    }
   ],
   "source": [
    "X_train, X_test, y_train, y_test = train_test_split(X,y, test_size=0.2, random_state=0)\n",
    "print(X_test.shape, X_train.shape, y_train.shape, y_test.shape)"
   ]
  },
  {
   "cell_type": "code",
   "execution_count": 29,
   "metadata": {},
   "outputs": [
    {
     "name": "stdout",
     "output_type": "stream",
     "text": [
      "      Score_Credit  Pays  Sex  Age  Tenure    Balance  Num_Produit  \\\n",
      "9394           597     1    0   35       8  131101.04            1   \n",
      "898            523     0    0   40       2  102967.41            1   \n",
      "2398           706     2    0   42       8   95386.82            1   \n",
      "5906           788     0    1   32       4  112079.58            1   \n",
      "2343           706     1    1   38       5  163034.82            2   \n",
      "...            ...   ...  ...  ...     ...        ...          ...   \n",
      "1037           625     0    0   24       1       0.00            2   \n",
      "2899           586     0    0   35       7       0.00            2   \n",
      "9549           578     2    1   36       1  157267.95            2   \n",
      "2740           650     1    1   34       4  142393.11            1   \n",
      "6690           573     1    1   30       8  127406.50            1   \n",
      "\n",
      "      il_a_CrCard  Membre_actif  Salaire_estime  \n",
      "9394            1             1       192852.67  \n",
      "898             1             0       128702.10  \n",
      "2398            1             1        75732.25  \n",
      "5906            0             0        89368.59  \n",
      "2343            1             1       135662.17  \n",
      "...           ...           ...             ...  \n",
      "1037            1             1       180969.55  \n",
      "2899            1             0        70760.69  \n",
      "9549            1             0       141533.19  \n",
      "2740            1             1        11276.48  \n",
      "6690            1             0       192950.60  \n",
      "\n",
      "[2000 rows x 10 columns]\n",
      "=====================================\n",
      "[[-0.56129438  0.28034192 -1.11339196 ...  0.66011376  0.97628121\n",
      "   1.62185911]\n",
      " [-1.33847768 -0.93853599 -1.11339196 ...  0.66011376 -1.02429504\n",
      "   0.504204  ]\n",
      " [ 0.58347561  1.49921982 -1.11339196 ...  0.66011376  0.97628121\n",
      "  -0.41865644]\n",
      " ...\n",
      " [-0.76084144  1.49921982  0.8981563  ...  0.66011376 -1.02429504\n",
      "   0.72775202]\n",
      " [-0.0046631   0.28034192  0.8981563  ...  0.66011376  0.97628121\n",
      "  -1.54162886]\n",
      " [-0.81335383  0.28034192  0.8981563  ...  0.66011376 -1.02429504\n",
      "   1.62356528]]\n",
      "====================================\n",
      "[[ 0.16958176  1.51919821 -1.09168714 ...  0.64259497 -1.03227043\n",
      "   1.10643166]\n",
      " [-2.30455945  0.3131264   0.91601335 ...  0.64259497  0.9687384\n",
      "  -0.74866447]\n",
      " [-1.19119591 -0.89294542 -1.09168714 ...  0.64259497 -1.03227043\n",
      "   1.48533467]\n",
      " ...\n",
      " [ 0.9015152  -0.89294542  0.91601335 ...  0.64259497 -1.03227043\n",
      "   1.41231994]\n",
      " [-0.62420521  1.51919821 -1.09168714 ...  0.64259497  0.9687384\n",
      "   0.84432121]\n",
      " [-0.28401079  0.3131264  -1.09168714 ...  0.64259497 -1.03227043\n",
      "   0.32472465]]\n"
     ]
    }
   ],
   "source": [
    "#Normalisation des valeurs de X\n",
    "scaler = StandardScaler()\n",
    "print(X_test)\n",
    "X_test = scaler.fit_transform(X_test)\n",
    "X_train = scaler.fit_transform(X_train)\n",
    "print(\"=====================================\")\n",
    "print(X_test)\n",
    "print (\"====================================\")\n",
    "print(X_train)\n"
   ]
  },
  {
   "cell_type": "markdown",
   "metadata": {},
   "source": [
    "cela nous permet de regrouper des valeurs proches dans un intervalle assez réduit"
   ]
  },
  {
   "cell_type": "markdown",
   "metadata": {},
   "source": [
    "## III- Modele avec une regression logistique"
   ]
  },
  {
   "cell_type": "code",
   "execution_count": 30,
   "metadata": {},
   "outputs": [
    {
     "name": "stdout",
     "output_type": "stream",
     "text": [
      "(8000, 1)\n"
     ]
    },
    {
     "name": "stderr",
     "output_type": "stream",
     "text": [
      "C:\\Users\\utilisateur\\anaconda3\\lib\\site-packages\\sklearn\\utils\\validation.py:72: DataConversionWarning: A column-vector y was passed when a 1d array was expected. Please change the shape of y to (n_samples, ), for example using ravel().\n",
      "  return f(**kwargs)\n"
     ]
    },
    {
     "data": {
      "text/plain": [
       "LogisticRegression(random_state=0, solver='liblinear')"
      ]
     },
     "execution_count": 30,
     "metadata": {},
     "output_type": "execute_result"
    }
   ],
   "source": [
    "#création du modele\n",
    "logreg = LogisticRegression(solver='liblinear', random_state=0)\n",
    "\n",
    "print(y_train.shape)\n",
    "# on en traine le modèle sur les données d'apprentissage\n",
    "logreg.fit(X_train, y_train)"
   ]
  },
  {
   "cell_type": "markdown",
   "metadata": {},
   "source": [
    "### Prédiction sur l’échantillon test"
   ]
  },
  {
   "cell_type": "code",
   "execution_count": 31,
   "metadata": {},
   "outputs": [
    {
     "data": {
      "text/plain": [
       "array([0, 0, 0, ..., 0, 0, 0], dtype=int64)"
      ]
     },
     "execution_count": 31,
     "metadata": {},
     "output_type": "execute_result"
    }
   ],
   "source": [
    "y_pred_test = logreg.predict(X_test)\n",
    "\n",
    "y_pred_test"
   ]
  },
  {
   "cell_type": "markdown",
   "metadata": {},
   "source": [
    "### Comparaison de l'accuracy sur l'apprentissage et le test"
   ]
  },
  {
   "cell_type": "code",
   "execution_count": 32,
   "metadata": {},
   "outputs": [
    {
     "name": "stdout",
     "output_type": "stream",
     "text": [
      "Training set score: 0.8086\n",
      "Test set score: 0.8080\n"
     ]
    }
   ],
   "source": [
    "# print the scores on training and test set\n",
    "\n",
    "print('Training set score: {:.4f}'.format(logreg.score(X_train, y_train)))\n",
    "\n",
    "print('Test set score: {:.4f}'.format(logreg.score(X_test, y_test)))"
   ]
  },
  {
   "cell_type": "markdown",
   "metadata": {},
   "source": [
    "nous avons un bon modèle car nous avons les mêmes résultats mais pas assez perfomant car pas assez proche de 1"
   ]
  },
  {
   "cell_type": "markdown",
   "metadata": {},
   "source": [
    "### AFFICHAGE DE LA MATRICE DE CONFUSION"
   ]
  },
  {
   "cell_type": "code",
   "execution_count": 33,
   "metadata": {},
   "outputs": [
    {
     "name": "stdout",
     "output_type": "stream",
     "text": [
      "Confusion matrix\n",
      "\n",
      " [[1551   44]\n",
      " [ 340   65]]\n",
      "\n",
      "True Positives(TP) =  1551\n",
      "\n",
      "True Negatives(TN) =  65\n",
      "\n",
      "False Positives(FP) =  44\n",
      "\n",
      "False Negatives(FN) =  340\n"
     ]
    }
   ],
   "source": [
    "# Print the Confusion Matrix and slice it into four pieces\n",
    "\n",
    "from sklearn.metrics import confusion_matrix\n",
    "\n",
    "cm = confusion_matrix(y_test, y_pred_test)\n",
    "\n",
    "print('Confusion matrix\\n\\n', cm)\n",
    "\n",
    "print('\\nTrue Positives(TP) = ', cm[0,0])\n",
    "\n",
    "print('\\nTrue Negatives(TN) = ', cm[1,1])\n",
    "\n",
    "print('\\nFalse Positives(FP) = ', cm[0,1])\n",
    "\n",
    "print('\\nFalse Negatives(FN) = ', cm[1,0])"
   ]
  },
  {
   "cell_type": "markdown",
   "metadata": {},
   "source": [
    "nous avons 1552 variables bien classées, 65 mal classées, 43 mal classees à tort , 340 considérées comme mal classees alors que c'est bien classé"
   ]
  },
  {
   "cell_type": "markdown",
   "metadata": {},
   "source": [
    "### imprimer les indicateurs"
   ]
  },
  {
   "cell_type": "code",
   "execution_count": 34,
   "metadata": {},
   "outputs": [
    {
     "name": "stdout",
     "output_type": "stream",
     "text": [
      "Classification accuracy : 0.8080\n"
     ]
    }
   ],
   "source": [
    "TP = cm[0,0]\n",
    "TN = cm[1,1]\n",
    "FP = cm[0,1]\n",
    "FN = cm[1,0]\n",
    "\n",
    "# print classification accuracy\n",
    "\n",
    "classification_accuracy = (TP + TN) / float(TP + TN + FP + FN)\n",
    "\n",
    "print('Classification accuracy : {0:0.4f}'.format(classification_accuracy))"
   ]
  },
  {
   "cell_type": "code",
   "execution_count": 35,
   "metadata": {},
   "outputs": [
    {
     "name": "stdout",
     "output_type": "stream",
     "text": [
      "Classification accuracy : 0.8080\n",
      "Classification error : 0.1920\n",
      "Precision : 0.9724\n",
      "Recall or Sensitivity : 0.8202\n",
      "Specificity : 0.5963\n"
     ]
    }
   ],
   "source": [
    "print('Classification accuracy : {0:0.4f}'.format(classification_accuracy))\n",
    "\n",
    "\n",
    "\n",
    "# print classification error\n",
    "\n",
    "classification_error = (FP + FN) / float(TP + TN + FP + FN)\n",
    "\n",
    "print('Classification error : {0:0.4f}'.format(classification_error))\n",
    "\n",
    "\n",
    "\n",
    "# print precision score\n",
    "\n",
    "precision = TP / float(TP + FP)\n",
    "\n",
    "\n",
    "print('Precision : {0:0.4f}'.format(precision))\n",
    "\n",
    "# print recall score\n",
    "\n",
    "recall = TP / float(TP + FN)\n",
    "\n",
    "print('Recall or Sensitivity : {0:0.4f}'.format(recall))\n",
    "\n",
    "# print Specificity score\n",
    "\n",
    "specificity = TN / (TN + FP)\n",
    "\n",
    "print('Specificity : {0:0.4f}'.format(specificity))"
   ]
  },
  {
   "cell_type": "markdown",
   "metadata": {},
   "source": [
    "erreur proche de 0  c'est bien \n",
    "précision et recall elevés\n"
   ]
  },
  {
   "cell_type": "markdown",
   "metadata": {},
   "source": [
    "on voit que notre modèle est performant MAIS PS SUFFISANT"
   ]
  },
  {
   "cell_type": "markdown",
   "metadata": {},
   "source": [
    "## IV- Modele avec une regression logistique avec PCA"
   ]
  },
  {
   "cell_type": "markdown",
   "metadata": {},
   "source": [
    "on retire toutes les variables redondantes pour avoir un model plus petit et concentre sur les odnnées essentielles\n",
    "pour savoir si on va avoir des meilleurs résultats =>  maxmiser la variance\n",
    "\n",
    "Afin de réduire la dimensionnalité des données, appliquez la méthode PCA sur les données (X) en choisissant un nombre de composants de 2. "
   ]
  },
  {
   "cell_type": "code",
   "execution_count": 36,
   "metadata": {},
   "outputs": [
    {
     "name": "stderr",
     "output_type": "stream",
     "text": [
      "C:\\Users\\utilisateur\\anaconda3\\lib\\site-packages\\sklearn\\utils\\validation.py:72: DataConversionWarning: A column-vector y was passed when a 1d array was expected. Please change the shape of y to (n_samples, ), for example using ravel().\n",
      "  return f(**kwargs)\n"
     ]
    },
    {
     "data": {
      "text/plain": [
       "LogisticRegression(random_state=0, solver='liblinear')"
      ]
     },
     "execution_count": 36,
     "metadata": {},
     "output_type": "execute_result"
    }
   ],
   "source": [
    "pca_log = PCA(n_components=2)\n",
    "X_train_pca = pca_log.fit_transform(X_train)\n",
    "\n",
    "logreg.fit(X_train_pca, y_train)"
   ]
  },
  {
   "cell_type": "code",
   "execution_count": 37,
   "metadata": {},
   "outputs": [
    {
     "name": "stderr",
     "output_type": "stream",
     "text": [
      "C:\\Users\\utilisateur\\anaconda3\\lib\\site-packages\\sklearn\\utils\\validation.py:72: DataConversionWarning: A column-vector y was passed when a 1d array was expected. Please change the shape of y to (n_samples, ), for example using ravel().\n",
      "  return f(**kwargs)\n"
     ]
    },
    {
     "data": {
      "text/plain": [
       "LogisticRegression(random_state=0, solver='liblinear')"
      ]
     },
     "execution_count": 37,
     "metadata": {},
     "output_type": "execute_result"
    }
   ],
   "source": [
    "X_test_pca = pca_log.fit_transform(X_test)\n",
    "\n",
    "logreg.fit(X_test_pca, y_test)"
   ]
  },
  {
   "cell_type": "code",
   "execution_count": 38,
   "metadata": {},
   "outputs": [
    {
     "name": "stdout",
     "output_type": "stream",
     "text": [
      "Training set score: 0.7960\n",
      "Test set score: 0.7975\n"
     ]
    }
   ],
   "source": [
    "# print the scores on training and test set\n",
    "\n",
    "print('Training set score: {:.4f}'.format(logreg.score(X_train_pca, y_train)))\n",
    "\n",
    "print('Test set score: {:.4f}'.format(logreg.score(X_test_pca, y_test)))"
   ]
  },
  {
   "cell_type": "markdown",
   "metadata": {},
   "source": [
    "Les résultats avec PCA sont moins bons que sans  PCA pour la regression logistique."
   ]
  },
  {
   "cell_type": "markdown",
   "metadata": {},
   "source": [
    "## V-  Modèle Random  Forest sans PCA"
   ]
  },
  {
   "cell_type": "code",
   "execution_count": 39,
   "metadata": {},
   "outputs": [
    {
     "name": "stderr",
     "output_type": "stream",
     "text": [
      "<ipython-input-39-dc0cb59b7589>:2: DataConversionWarning: A column-vector y was passed when a 1d array was expected. Please change the shape of y to (n_samples,), for example using ravel().\n",
      "  reg_rcf.fit(X_train, y_train)\n"
     ]
    },
    {
     "data": {
      "text/plain": [
       "RandomForestClassifier(random_state=42)"
      ]
     },
     "execution_count": 39,
     "metadata": {},
     "output_type": "execute_result"
    }
   ],
   "source": [
    "reg_rcf = RandomForestClassifier(random_state=42)\n",
    "reg_rcf.fit(X_train, y_train)"
   ]
  },
  {
   "cell_type": "code",
   "execution_count": 40,
   "metadata": {},
   "outputs": [
    {
     "name": "stdout",
     "output_type": "stream",
     "text": [
      "Training set score: 1.0000\n",
      "Test set score: 0.8640\n"
     ]
    }
   ],
   "source": [
    "# print the scores on training and test set\n",
    "\n",
    "print('Training set score: {:.4f}'.format(reg_rcf.score(X_train, y_train)))\n",
    "\n",
    "print('Test set score: {:.4f}'.format(reg_rcf.score(X_test, y_test)))"
   ]
  },
  {
   "cell_type": "markdown",
   "metadata": {},
   "source": [
    "cette méthode révèle un risque de surapprentissage. (révélateur de la réalité?)"
   ]
  },
  {
   "cell_type": "markdown",
   "metadata": {},
   "source": [
    "## VI-Modèle Random  Forest avec PCA"
   ]
  },
  {
   "cell_type": "code",
   "execution_count": 41,
   "metadata": {},
   "outputs": [
    {
     "name": "stderr",
     "output_type": "stream",
     "text": [
      "<ipython-input-41-ae5151e4929a>:4: DataConversionWarning: A column-vector y was passed when a 1d array was expected. Please change the shape of y to (n_samples,), for example using ravel().\n",
      "  reg_rcf.fit(X_train_pca, y_train)\n"
     ]
    },
    {
     "data": {
      "text/plain": [
       "RandomForestClassifier(random_state=42)"
      ]
     },
     "execution_count": 41,
     "metadata": {},
     "output_type": "execute_result"
    }
   ],
   "source": [
    "pca = PCA(n_components=2)\n",
    "X_train_pca = pca.fit_transform(X_train)\n",
    "\n",
    "reg_rcf.fit(X_train_pca, y_train)"
   ]
  },
  {
   "cell_type": "code",
   "execution_count": 42,
   "metadata": {},
   "outputs": [],
   "source": [
    "X_test_pca = pca.transform(X_test)\n"
   ]
  },
  {
   "cell_type": "code",
   "execution_count": 43,
   "metadata": {},
   "outputs": [
    {
     "name": "stdout",
     "output_type": "stream",
     "text": [
      "Training set score: 0.9999\n",
      "Test set score: 0.7780\n"
     ]
    }
   ],
   "source": [
    "# print the scores on training and test set\n",
    "\n",
    "print('Training set score: {:.4f}'.format(reg_rcf.score(X_train_pca, y_train)))\n",
    "\n",
    "print('Test set score: {:.4f}'.format(reg_rcf.score(X_test_pca, y_test)))"
   ]
  },
  {
   "cell_type": "markdown",
   "metadata": {},
   "source": [
    "Le Random Forest sans PCA se revèle plus performant qu'avec PCA."
   ]
  },
  {
   "cell_type": "markdown",
   "metadata": {},
   "source": [
    "## VII-Reseau de neurones"
   ]
  },
  {
   "cell_type": "markdown",
   "metadata": {},
   "source": [
    "#Initialisation du modèle avec un nombre de neureones par couche et un optimiser.\n",
    "\n",
    "nous sommes dans une étude binaire : désabonement oui ou non \n",
    "\n",
    "#fonction RELU :fonction linéaire par morceaux. Son avantage réside sur le fait qu'elle\n",
    "remplace toute valeur d'entrée négative par 0 et toute valeur positive par elle même, soit\n",
    "max(0,x).Cette fonction casse la linéarité des valeurs négatives et désactive certains\n",
    "neurones.\n",
    "\n",
    "#fonctions d’activation - Sigmoïde\n",
    "prend une valeur réelle en entrée et la transforme en une valeur réelle de\n",
    "sortie comprise entre 0 et 1"
   ]
  },
  {
   "cell_type": "code",
   "execution_count": 49,
   "metadata": {},
   "outputs": [],
   "source": [
    "\n",
    "model = models.Sequential()\n",
    "model.add(layers.Dense(13, kernel_initializer = \"uniform\", activation='relu', input_shape=(10,)))\n",
    "model.add(layers.Dense(26, kernel_initializer = \"uniform\", activation='relu'))\n",
    "model.add(layers.Dense(1, kernel_initializer = \"uniform\",  activation='sigmoid'))"
   ]
  },
  {
   "cell_type": "code",
   "execution_count": 50,
   "metadata": {},
   "outputs": [
    {
     "name": "stdout",
     "output_type": "stream",
     "text": [
      "Model: \"sequential_1\"\n",
      "_________________________________________________________________\n",
      "Layer (type)                 Output Shape              Param #   \n",
      "=================================================================\n",
      "dense_3 (Dense)              (None, 13)                143       \n",
      "_________________________________________________________________\n",
      "dense_4 (Dense)              (None, 26)                364       \n",
      "_________________________________________________________________\n",
      "dense_5 (Dense)              (None, 1)                 27        \n",
      "=================================================================\n",
      "Total params: 534\n",
      "Trainable params: 534\n",
      "Non-trainable params: 0\n",
      "_________________________________________________________________\n"
     ]
    }
   ],
   "source": [
    "\n",
    "\n",
    "model.summary()\n",
    "\n"
   ]
  },
  {
   "cell_type": "code",
   "execution_count": 51,
   "metadata": {},
   "outputs": [],
   "source": [
    "#Les optimizer vont façonner et modeler les modèles dans leur forme la plus précise possible en utilisant les poids synaptiques\n",
    "#"
   ]
  },
  {
   "cell_type": "code",
   "execution_count": 52,
   "metadata": {},
   "outputs": [],
   "source": [
    "model.compile(optimizer='adam', loss=\"binary_crossentropy\", metrics=['accuracy'])"
   ]
  },
  {
   "cell_type": "markdown",
   "metadata": {},
   "source": [
    "#entrainement du modele avec la fonction fit, le nombre d'epoque(combien de fois on parcours le jeu de données)"
   ]
  },
  {
   "cell_type": "code",
   "execution_count": 53,
   "metadata": {},
   "outputs": [
    {
     "name": "stdout",
     "output_type": "stream",
     "text": [
      "Epoch 1/10\n",
      "800/800 [==============================] - 2s 2ms/step - loss: 0.5283 - accuracy: 0.7948 - val_loss: 0.4246 - val_accuracy: 0.8150\n",
      "Epoch 2/10\n",
      "800/800 [==============================] - 1s 1ms/step - loss: 0.4224 - accuracy: 0.8207 - val_loss: 0.4107 - val_accuracy: 0.8335\n",
      "Epoch 3/10\n",
      "800/800 [==============================] - 1s 1ms/step - loss: 0.4275 - accuracy: 0.8222 - val_loss: 0.4020 - val_accuracy: 0.8365\n",
      "Epoch 4/10\n",
      "800/800 [==============================] - 1s 1ms/step - loss: 0.4069 - accuracy: 0.8346 - val_loss: 0.3971 - val_accuracy: 0.8425\n",
      "Epoch 5/10\n",
      "800/800 [==============================] - 1s 1ms/step - loss: 0.3985 - accuracy: 0.8361 - val_loss: 0.3957 - val_accuracy: 0.8400\n",
      "Epoch 6/10\n",
      "800/800 [==============================] - 1s 1ms/step - loss: 0.4028 - accuracy: 0.8329 - val_loss: 0.3979 - val_accuracy: 0.8370\n",
      "Epoch 7/10\n",
      "800/800 [==============================] - 1s 1ms/step - loss: 0.3988 - accuracy: 0.8345 - val_loss: 0.3983 - val_accuracy: 0.8395\n",
      "Epoch 8/10\n",
      "800/800 [==============================] - 1s 1ms/step - loss: 0.3936 - accuracy: 0.8395 - val_loss: 0.3975 - val_accuracy: 0.8405\n",
      "Epoch 9/10\n",
      "800/800 [==============================] - 1s 1ms/step - loss: 0.3966 - accuracy: 0.8303 - val_loss: 0.3967 - val_accuracy: 0.8415\n",
      "Epoch 10/10\n",
      "800/800 [==============================] - 1s 1ms/step - loss: 0.3891 - accuracy: 0.8405 - val_loss: 0.3960 - val_accuracy: 0.8385\n"
     ]
    }
   ],
   "source": [
    "\n",
    "\n",
    "history = model.fit(X_train, y_train, batch_size=10, epochs=10, validation_data=(X_test, y_test))\n",
    "\n"
   ]
  },
  {
   "cell_type": "code",
   "execution_count": 54,
   "metadata": {},
   "outputs": [
    {
     "name": "stdout",
     "output_type": "stream",
     "text": [
      "63/63 [==============================] - 0s 2ms/step - loss: 0.3960 - accuracy: 0.8385\n",
      "\n",
      "Test accuracy: 0.8385000228881836\n"
     ]
    }
   ],
   "source": [
    "# Evaluation des performances du modèle\n",
    "test_loss, test_acc = model.evaluate(X_test, y_test)\n",
    "# on imprime la performance du modèle\n",
    "print('\\nTest accuracy:', test_acc)"
   ]
  },
  {
   "cell_type": "code",
   "execution_count": 55,
   "metadata": {},
   "outputs": [],
   "source": [
    "\n",
    "pred = model.predict(X_test)\n",
    "pred = (pred > 0.50)\n",
    "\n"
   ]
  },
  {
   "cell_type": "code",
   "execution_count": 56,
   "metadata": {},
   "outputs": [],
   "source": [
    "conf = confusion_matrix(y_test, pred)"
   ]
  },
  {
   "cell_type": "code",
   "execution_count": 57,
   "metadata": {},
   "outputs": [
    {
     "data": {
      "text/plain": [
       "<AxesSubplot:>"
      ]
     },
     "execution_count": 57,
     "metadata": {},
     "output_type": "execute_result"
    },
    {
     "data": {
      "image/png": "[encoded data removed]",
      "text/plain": [
       "<Figure size 432x288 with 2 Axes>"
      ]
     },
     "metadata": {},
     "output_type": "display_data"
    }
   ],
   "source": [
    "sb.heatmap(conf, cmap='mako', annot=True, fmt='d')"
   ]
  },
  {
   "cell_type": "markdown",
   "metadata": {},
   "source": [
    "Au final le jeu de neurones montre que le nombre d'abonné ne souhaitant pas se désabonner est plutôt bien classé (1538) ."
   ]
  },
  {
   "cell_type": "markdown",
   "metadata": {},
   "source": [
    "# CONCLUSION"
   ]
  },
  {
   "cell_type": "markdown",
   "metadata": {},
   "source": [
    "Le modele du Random Forest sans PCA semble le plus pertinant de tous les modèles que nous avons expérimenté avec un score de 0,86 pour le jeu de test.\n",
    "\n",
    "Les méthodes avec PCA nous donnent des résultats moins performants que les méthodes sans pca (lien à effet à la réduction de dimentionalité? ) et que celui du jeu de neurone.\n"
   ]
  }
 ],
 "metadata": {
  "kernelspec": {
   "display_name": "Python 3",
   "language": "python",
   "name": "python3"
  },
  "language_info": {
   "codemirror_mode": {
    "name": "ipython",
    "version": 3
   },
   "file_extension": ".py",
   "mimetype": "text/x-python",
   "name": "python",
   "nbconvert_exporter": "python",
   "pygments_lexer": "ipython3",
   "version": "3.8.5"
  }
 },
 "nbformat": 4,
 "nbformat_minor": 4
}
